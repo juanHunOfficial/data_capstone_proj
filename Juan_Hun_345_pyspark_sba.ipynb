{
 "cells": [
  {
   "cell_type": "markdown",
   "id": "a5cca37e",
   "metadata": {},
   "source": [
    "# Juan Hun 345 SBA "
   ]
  },
  {
   "cell_type": "code",
   "execution_count": 56,
   "id": "1a72ee11",
   "metadata": {},
   "outputs": [],
   "source": [
    "from pyspark.sql import SparkSession\n",
    "from pyspark.sql.functions import col, cast, max, mean, min, count"
   ]
  },
  {
   "cell_type": "code",
   "execution_count": 82,
   "id": "d1484df5",
   "metadata": {},
   "outputs": [],
   "source": [
    "spark = SparkSession.builder \\\n",
    "            .appName('capstone-proj') \\\n",
    "            .getOrCreate()\n",
    "\n",
    "df_abc = spark.read.option(\"multiLine\", True).option(\"header\", True).csv('./apache_spark_data/CompanyABC_stock.csv')"
   ]
  },
  {
   "cell_type": "markdown",
   "id": "a4a70bad",
   "metadata": {},
   "source": [
    "### 1.1  Load/Read the CompanyABC Stock (CompanyABC stock.csv) data into the SparkSQL DataFrame [ hint read() ]."
   ]
  },
  {
   "cell_type": "code",
   "execution_count": 12,
   "id": "1f31bd51",
   "metadata": {},
   "outputs": [
    {
     "name": "stdout",
     "output_type": "stream",
     "text": [
      "root\n",
      " |-- Date: string (nullable = true)\n",
      " |-- Open: string (nullable = true)\n",
      " |-- High: string (nullable = true)\n",
      " |-- Low: string (nullable = true)\n",
      " |-- Close: string (nullable = true)\n",
      " |-- Volume: string (nullable = true)\n",
      " |-- Adj Close: string (nullable = true)\n",
      "\n",
      "+-------+----------+------------------+-----------------+-----------------+-----------------+-----------------+-----------------+\n",
      "|summary|      Date|              Open|             High|              Low|            Close|           Volume|        Adj Close|\n",
      "+-------+----------+------------------+-----------------+-----------------+-----------------+-----------------+-----------------+\n",
      "|  count|      1258|              1258|             1258|             1258|             1258|             1258|             1258|\n",
      "|   mean|      NULL| 72.35785375357709|72.83938807631165| 71.9186009594594|72.38844998012726|8222093.481717011|67.23883848728146|\n",
      "| stddev|      NULL|  6.76809024470826|6.768186808159218|6.744075756255496|6.756859163732991|  4519780.8431556|6.722609449996857|\n",
      "|    min|2012-01-03|56.389998999999996|        57.060001|        56.299999|        56.419998|         10010500|        50.363689|\n",
      "|    max|2016-12-30|         90.800003|        90.970001|            89.25|        90.470001|          9994400|84.91421600000001|\n",
      "+-------+----------+------------------+-----------------+-----------------+-----------------+-----------------+-----------------+\n",
      "\n",
      "+----------+------------------+------------------+------------------+------------------+--------+------------------+\n",
      "|      Date|              Open|              High|               Low|             Close|  Volume|         Adj Close|\n",
      "+----------+------------------+------------------+------------------+------------------+--------+------------------+\n",
      "|2012-01-03|         59.970001|         61.060001|         59.869999|         60.330002|12668800|52.619234999999996|\n",
      "|2012-01-04|60.209998999999996|         60.349998|         59.470001|59.709998999999996| 9593300|         52.078475|\n",
      "|2012-01-05|         59.349998|         59.619999|         58.369999|         59.419998|12768200|         51.825539|\n",
      "|2012-01-06|         59.419998|         59.450001|         58.869999|              59.0| 8069400|          51.45922|\n",
      "|2012-01-09|         59.029999|         59.549999|         58.919998|             59.18| 6679300|51.616215000000004|\n",
      "|2012-01-10|             59.43|59.709998999999996|             58.98|59.040001000000004| 6907300|         51.494109|\n",
      "|2012-01-11|         59.060001|         59.529999|59.040001000000004|         59.400002| 6365600|         51.808098|\n",
      "|2012-01-12|59.790001000000004|              60.0|         59.400002|              59.5| 7236400|51.895315999999994|\n",
      "|2012-01-13|             59.18|59.610001000000004|59.009997999999996|59.540001000000004| 7729300|51.930203999999996|\n",
      "|2012-01-17|         59.869999|60.110001000000004|             59.52|         59.849998| 8500000|         52.200581|\n",
      "|2012-01-18|59.790001000000004|         60.029999|         59.650002|60.009997999999996| 5911400|         52.340131|\n",
      "|2012-01-19|             59.93|             60.73|             59.75|60.610001000000004| 9234600|         52.863447|\n",
      "|2012-01-20|             60.75|             61.25|         60.669998|61.009997999999996|10378800|53.212320999999996|\n",
      "|2012-01-23|         60.810001|             60.98|60.509997999999996|             60.91| 7134100|         53.125104|\n",
      "|2012-01-24|             60.75|              62.0|             60.75|61.389998999999996| 7362800| 53.54375400000001|\n",
      "|2012-01-25|             61.18|61.610001000000004|61.040001000000004|         61.470001| 5915800| 53.61353100000001|\n",
      "|2012-01-26|         61.799999|             61.84|             60.77|         60.970001| 7436200|         53.177436|\n",
      "|2012-01-27|60.860001000000004|         61.119999|60.540001000000004|60.709998999999996| 6287300|         52.950665|\n",
      "|2012-01-30|         60.470001|             61.32|         60.349998|         61.299999| 7636900|53.465256999999994|\n",
      "|2012-01-31|         61.529999|             61.57|         60.580002|61.360001000000004| 9761500|53.517590000000006|\n",
      "+----------+------------------+------------------+------------------+------------------+--------+------------------+\n",
      "only showing top 20 rows\n",
      "\n"
     ]
    }
   ],
   "source": [
    "\n",
    "df_abc.columns\n",
    "df_abc.printSchema()\n",
    "df_abc.describe().show()\n",
    "df_abc.show()"
   ]
  },
  {
   "cell_type": "markdown",
   "id": "49363c3a",
   "metadata": {},
   "source": [
    "### 1.2 print first five rows"
   ]
  },
  {
   "cell_type": "code",
   "execution_count": 13,
   "id": "bd6e10db",
   "metadata": {},
   "outputs": [
    {
     "name": "stdout",
     "output_type": "stream",
     "text": [
      "+----------+------------------+---------+---------+------------------+--------+------------------+\n",
      "|      Date|              Open|     High|      Low|             Close|  Volume|         Adj Close|\n",
      "+----------+------------------+---------+---------+------------------+--------+------------------+\n",
      "|2012-01-03|         59.970001|61.060001|59.869999|         60.330002|12668800|52.619234999999996|\n",
      "|2012-01-04|60.209998999999996|60.349998|59.470001|59.709998999999996| 9593300|         52.078475|\n",
      "|2012-01-05|         59.349998|59.619999|58.369999|         59.419998|12768200|         51.825539|\n",
      "|2012-01-06|         59.419998|59.450001|58.869999|              59.0| 8069400|          51.45922|\n",
      "|2012-01-09|         59.029999|59.549999|58.919998|             59.18| 6679300|51.616215000000004|\n",
      "+----------+------------------+---------+---------+------------------+--------+------------------+\n",
      "only showing top 5 rows\n",
      "\n"
     ]
    }
   ],
   "source": [
    "df_abc.show(5)\n",
    "# or df.head(5) but I prefer show(5)"
   ]
  },
  {
   "cell_type": "markdown",
   "id": "2fa67461",
   "metadata": {},
   "source": [
    "### 1.3 Create a new DataFrame column called “HV Ratio,” which will stimulate the ratio of the High price versus the total Volume of stock that was traded for a day."
   ]
  },
  {
   "cell_type": "code",
   "execution_count": null,
   "id": "1cb01afe",
   "metadata": {},
   "outputs": [
    {
     "name": "stdout",
     "output_type": "stream",
     "text": [
      "+----------+------------------+---------+---------+------------------+--------+------------------+--------------------+\n",
      "|      Date|              Open|     High|      Low|             Close|  Volume|         Adj Close|            HV Ratio|\n",
      "+----------+------------------+---------+---------+------------------+--------+------------------+--------------------+\n",
      "|2012-01-03|         59.970001|61.060001|59.869999|         60.330002|12668800|52.619234999999996|4.819714682786927E-6|\n",
      "|2012-01-04|60.209998999999996|60.349998|59.470001|59.709998999999996| 9593300|         52.078475|6.290848662516662E-6|\n",
      "|2012-01-05|         59.349998|59.619999|58.369999|         59.419998|12768200|         51.825539| 4.66941298944916E-6|\n",
      "|2012-01-06|         59.419998|59.450001|58.869999|              59.0| 8069400|          51.45922| 7.36733843444859E-6|\n",
      "|2012-01-09|         59.029999|59.549999|58.919998|             59.18| 6679300|51.616215000000004|8.915604814435727E-6|\n",
      "+----------+------------------+---------+---------+------------------+--------+------------------+--------------------+\n",
      "only showing top 5 rows\n",
      "\n",
      "207481.16266817617\n"
     ]
    }
   ],
   "source": [
    "df_abc = df_abc.withColumn(\n",
    "    \"HV Ratio\",\n",
    "    col(\"High\").cast(\"float\") / col(\"volume\").cast(\"float\")\n",
    ")\n",
    "\n",
    "df_abc.show(5)"
   ]
  },
  {
   "cell_type": "markdown",
   "id": "1f6bcddd",
   "metadata": {},
   "source": [
    "### 1.4: Find out on what day the stock price was the highest. (Hint: use the High column.)"
   ]
  },
  {
   "cell_type": "code",
   "execution_count": 46,
   "id": "41284320",
   "metadata": {},
   "outputs": [
    {
     "name": "stdout",
     "output_type": "stream",
     "text": [
      "+--------+\n",
      "|Max High|\n",
      "+--------+\n",
      "|   90.97|\n",
      "+--------+\n",
      "\n"
     ]
    }
   ],
   "source": [
    "df_abc.agg(max(col(\"High\").cast(\"float\")).alias(\"Max High\")).show()\n"
   ]
  },
  {
   "cell_type": "markdown",
   "id": "738adaa3",
   "metadata": {},
   "source": [
    "### 1.5: What is the average (mean) closing price? (Hint: Use the Close column.)"
   ]
  },
  {
   "cell_type": "code",
   "execution_count": 47,
   "id": "327e2ea9",
   "metadata": {},
   "outputs": [
    {
     "name": "stdout",
     "output_type": "stream",
     "text": [
      "+-----------------+\n",
      "|       Mean Close|\n",
      "+-----------------+\n",
      "|72.38844997363553|\n",
      "+-----------------+\n",
      "\n"
     ]
    }
   ],
   "source": [
    "df_abc.agg(mean(col(\"Close\").cast(\"float\")).alias(\"Mean Close\")).show()\n"
   ]
  },
  {
   "cell_type": "markdown",
   "id": "60fad2c2",
   "metadata": {},
   "source": [
    "### 1.6: What are the maximum and minimum volumes of stock traded? (Hint: Use the Volume column.)."
   ]
  },
  {
   "cell_type": "code",
   "execution_count": 55,
   "id": "6b8b4ee9",
   "metadata": {},
   "outputs": [
    {
     "name": "stdout",
     "output_type": "stream",
     "text": [
      "+----------+\n",
      "|Max Volume|\n",
      "+----------+\n",
      "|  80898100|\n",
      "+----------+\n",
      "\n",
      "+----------+\n",
      "|Min Volume|\n",
      "+----------+\n",
      "|   2094900|\n",
      "+----------+\n",
      "\n"
     ]
    }
   ],
   "source": [
    "df_abc.agg(max(col(\"Volume\").cast(\"int\")).alias(\"Max Volume\")).show()\n",
    "\n",
    "df_abc.agg(min(col(\"Volume\").cast(\"int\")).alias(\"Min Volume\")).show()"
   ]
  },
  {
   "cell_type": "markdown",
   "id": "ad25ce1f",
   "metadata": {},
   "source": [
    "### 1.7: For how many days was the closing value less than 70 dollars? (Hint: Use the count() method.)"
   ]
  },
  {
   "cell_type": "code",
   "execution_count": 73,
   "id": "0c93c5c0",
   "metadata": {},
   "outputs": [
    {
     "data": {
      "text/plain": [
       "397"
      ]
     },
     "execution_count": 73,
     "metadata": {},
     "output_type": "execute_result"
    }
   ],
   "source": [
    "df_abc.filter(col(\"Close\").cast(\"float\") < 70).count()"
   ]
  },
  {
   "cell_type": "markdown",
   "id": "3cb02c4b",
   "metadata": {},
   "source": [
    "### 1.8: What percentage of the time was the High greater than 80 dollars?"
   ]
  },
  {
   "cell_type": "code",
   "execution_count": 96,
   "id": "b5984d42",
   "metadata": {},
   "outputs": [
    {
     "name": "stdout",
     "output_type": "stream",
     "text": [
      "Percentage of rows with High > 80: 9.141494435612083%\n"
     ]
    }
   ],
   "source": [
    "high_above_80_count = df_abc.filter(col(\"High\").cast(\"float\") > 80).count()\n",
    "total_count = df_abc.count()\n",
    "\n",
    "percentage = (high_above_80_count / total_count) * 100\n",
    "print(f\"Percentage of rows with High > 80: {percentage}%\")"
   ]
  },
  {
   "cell_type": "markdown",
   "id": "e70ea228",
   "metadata": {},
   "source": [
    "### 1.9: Create a database named CompanyABC_DB using SQL (Workbench). "
   ]
  },
  {
   "cell_type": "code",
   "execution_count": 80,
   "id": "a5f84c1b",
   "metadata": {},
   "outputs": [],
   "source": [
    "import mysql.connector as db_connection\n",
    "\n",
    "conn = db_connection.connect(\n",
    "            host = \"localhost\",\n",
    "            user = \"root\",\n",
    "            password = \"password\"\n",
    "        )\n",
    "\n",
    "cursor = conn.cursor()\n",
    "cursor.execute(\"CREATE DATABASE IF NOT EXISTS CompanyABC_DB\")\n",
    "cursor.execute(\"USE CompanyABC_DB\")"
   ]
  },
  {
   "cell_type": "markdown",
   "id": "07c32aff",
   "metadata": {},
   "source": [
    "### 1.10: Load/Write CompanyABC stock.csv file data into CompanyABC_DB database from the SparkSQL Dataframe. You can specify any table name for that file."
   ]
  },
  {
   "cell_type": "code",
   "execution_count": 81,
   "id": "9be8f71d",
   "metadata": {},
   "outputs": [],
   "source": [
    "url = \"jdbc:mysql://localhost:3306/CompanyABC_DB\" \n",
    "properties = {\n",
    "    \"user\": \"root\",  \n",
    "    \"password\": \"password\",  \n",
    "    \"driver\": \"com.mysql.cj.jdbc.Driver\"\n",
    "}\n",
    "df_abc.write.jdbc(url=url, table=\"CompanyABC_Table\", mode=\"append\", properties=properties)"
   ]
  },
  {
   "cell_type": "markdown",
   "id": "3b6b8033",
   "metadata": {},
   "source": [
    "# Section Two"
   ]
  },
  {
   "cell_type": "markdown",
   "id": "f26c95d7",
   "metadata": {},
   "source": [
    "### 2.1: Load/Read both CompanyABC sales datasets (Sales_April_2019.csv and Sales_February_2019.csv) into a single SparkSQL DataFrame ( hint read() )."
   ]
  },
  {
   "cell_type": "code",
   "execution_count": 100,
   "id": "5cdb4be8",
   "metadata": {},
   "outputs": [
    {
     "name": "stdout",
     "output_type": "stream",
     "text": [
      "+--------+--------------------+----------------+----------+---------------+--------------------+\n",
      "|Order ID|             Product|Quantity Ordered|Price Each|     Order Date|    Purchase Address|\n",
      "+--------+--------------------+----------------+----------+---------------+--------------------+\n",
      "|  176558|USB-C Charging Cable|               2|     11.95| 4/19/2019 8:46|917 1st St, Dalla...|\n",
      "|  176559|Bose SoundSport H...|               1|     99.99| 4/7/2019 22:30|682 Chestnut St, ...|\n",
      "|  176560|        Google Phone|               1|       600|4/12/2019 14:38|669 Spruce St, Lo...|\n",
      "|  176560|    Wired Headphones|               1|     11.99|4/12/2019 14:38|669 Spruce St, Lo...|\n",
      "|  176561|    Wired Headphones|               1|     11.99| 4/30/2019 9:27|333 8th St, Los A...|\n",
      "|  176562|USB-C Charging Cable|               1|     11.95|4/29/2019 13:03|381 Wilson St, Sa...|\n",
      "|  176563|Bose SoundSport H...|               1|     99.99|  4/2/2019 7:46|668 Center St, Se...|\n",
      "|  176564|USB-C Charging Cable|               1|     11.95|4/12/2019 10:58|790 Ridge St, Atl...|\n",
      "|  176565|  Macbook Pro Laptop|               1|      1700|4/24/2019 10:38|915 Willow St, Sa...|\n",
      "|  176566|    Wired Headphones|               1|     11.99| 4/8/2019 14:05|83 7th St, Boston...|\n",
      "|  176567|        Google Phone|               1|       600|4/18/2019 17:18|444 7th St, Los A...|\n",
      "|  176568|Lightning Chargin...|               1|     14.95|4/15/2019 12:18|438 Elm St, Seatt...|\n",
      "|  176569|27in 4K Gaming Mo...|               1|    389.99|4/16/2019 19:23|657 Hill St, Dall...|\n",
      "|  176570|AA Batteries (4-p...|               1|      3.84|4/22/2019 15:09|186 12th St, Dall...|\n",
      "|  176571|Lightning Chargin...|               1|     14.95|4/19/2019 14:29|253 Johnson St, A...|\n",
      "|  176572|Apple Airpods Hea...|               1|       150| 4/4/2019 20:30|149 Dogwood St, N...|\n",
      "|  176573|USB-C Charging Cable|               1|     11.95|4/27/2019 18:41|214 Chestnut St, ...|\n",
      "|  176574|        Google Phone|               1|       600| 4/3/2019 19:42|20 Hill St, Los A...|\n",
      "|  176574|USB-C Charging Cable|               1|     11.95| 4/3/2019 19:42|20 Hill St, Los A...|\n",
      "|  176575|AAA Batteries (4-...|               1|      2.99| 4/27/2019 0:30|433 Hill St, New ...|\n",
      "+--------+--------------------+----------------+----------+---------------+--------------------+\n",
      "only showing top 20 rows\n",
      "\n"
     ]
    }
   ],
   "source": [
    "df_combined = spark.read.option(\"multiLine\", True).option(\"header\", True).csv([\n",
    "    './apache_spark_data/Sales_April_2019.csv',\n",
    "    './apache_spark_data/Sales_February_2019.csv'\n",
    "])\n",
    "df_combined.show()"
   ]
  },
  {
   "cell_type": "markdown",
   "id": "468f209c",
   "metadata": {},
   "source": [
    "### 2.2. If you use the above command on the sales dataset, you will notice that each Order has “Price Each” and “Quantity Ordered” columns, but the “Total Price” is missing.\n",
    "\n",
    "Now, create a new Spark DataFrame column called “Total price” and find the “Total Price” of the Order for the combined sales file as shown in the screenshot.\n"
   ]
  },
  {
   "cell_type": "code",
   "execution_count": 102,
   "id": "6b632f0f",
   "metadata": {},
   "outputs": [
    {
     "name": "stdout",
     "output_type": "stream",
     "text": [
      "+--------+--------------------+----------------+----------+---------------+--------------------+-----------+\n",
      "|Order ID|             Product|Quantity Ordered|Price Each|     Order Date|    Purchase Address|Total Price|\n",
      "+--------+--------------------+----------------+----------+---------------+--------------------+-----------+\n",
      "|  176558|USB-C Charging Cable|               2|     11.95| 4/19/2019 8:46|917 1st St, Dalla...|       23.9|\n",
      "|  176559|Bose SoundSport H...|               1|     99.99| 4/7/2019 22:30|682 Chestnut St, ...|      99.99|\n",
      "|  176560|        Google Phone|               1|       600|4/12/2019 14:38|669 Spruce St, Lo...|      600.0|\n",
      "|  176560|    Wired Headphones|               1|     11.99|4/12/2019 14:38|669 Spruce St, Lo...|      11.99|\n",
      "|  176561|    Wired Headphones|               1|     11.99| 4/30/2019 9:27|333 8th St, Los A...|      11.99|\n",
      "|  176562|USB-C Charging Cable|               1|     11.95|4/29/2019 13:03|381 Wilson St, Sa...|      11.95|\n",
      "|  176563|Bose SoundSport H...|               1|     99.99|  4/2/2019 7:46|668 Center St, Se...|      99.99|\n",
      "|  176564|USB-C Charging Cable|               1|     11.95|4/12/2019 10:58|790 Ridge St, Atl...|      11.95|\n",
      "|  176565|  Macbook Pro Laptop|               1|      1700|4/24/2019 10:38|915 Willow St, Sa...|     1700.0|\n",
      "|  176566|    Wired Headphones|               1|     11.99| 4/8/2019 14:05|83 7th St, Boston...|      11.99|\n",
      "|  176567|        Google Phone|               1|       600|4/18/2019 17:18|444 7th St, Los A...|      600.0|\n",
      "|  176568|Lightning Chargin...|               1|     14.95|4/15/2019 12:18|438 Elm St, Seatt...|      14.95|\n",
      "|  176569|27in 4K Gaming Mo...|               1|    389.99|4/16/2019 19:23|657 Hill St, Dall...|     389.99|\n",
      "|  176570|AA Batteries (4-p...|               1|      3.84|4/22/2019 15:09|186 12th St, Dall...|       3.84|\n",
      "|  176571|Lightning Chargin...|               1|     14.95|4/19/2019 14:29|253 Johnson St, A...|      14.95|\n",
      "|  176572|Apple Airpods Hea...|               1|       150| 4/4/2019 20:30|149 Dogwood St, N...|      150.0|\n",
      "|  176573|USB-C Charging Cable|               1|     11.95|4/27/2019 18:41|214 Chestnut St, ...|      11.95|\n",
      "|  176574|        Google Phone|               1|       600| 4/3/2019 19:42|20 Hill St, Los A...|      600.0|\n",
      "|  176574|USB-C Charging Cable|               1|     11.95| 4/3/2019 19:42|20 Hill St, Los A...|      11.95|\n",
      "|  176575|AAA Batteries (4-...|               1|      2.99| 4/27/2019 0:30|433 Hill St, New ...|       2.99|\n",
      "+--------+--------------------+----------------+----------+---------------+--------------------+-----------+\n",
      "only showing top 20 rows\n",
      "\n"
     ]
    }
   ],
   "source": [
    "df_combined = df_combined.withColumn(\n",
    "        \"Total Price\",\n",
    "        col(\"Quantity Ordered\").cast(\"int\") * col(\"Price Each\").cast(\"float\")\n",
    "    )\n",
    "\n",
    "df_combined.show()"
   ]
  },
  {
   "cell_type": "markdown",
   "id": "9ed690b3",
   "metadata": {},
   "source": [
    "### 2.3: Load/Write sales data from the SparkSQL DataFrame into CompanyABC_DB database. You can specify any name for the table. Remember, “Total price” must be recorded. "
   ]
  },
  {
   "cell_type": "code",
   "execution_count": 105,
   "id": "807af635",
   "metadata": {},
   "outputs": [],
   "source": [
    "df_combined.write.jdbc(url=url, table=\"Combined_Sales\", mode=\"append\", properties=properties)"
   ]
  }
 ],
 "metadata": {
  "kernelspec": {
   "display_name": "venv",
   "language": "python",
   "name": "python3"
  },
  "language_info": {
   "codemirror_mode": {
    "name": "ipython",
    "version": 3
   },
   "file_extension": ".py",
   "mimetype": "text/x-python",
   "name": "python",
   "nbconvert_exporter": "python",
   "pygments_lexer": "ipython3",
   "version": "3.10.11"
  }
 },
 "nbformat": 4,
 "nbformat_minor": 5
}
