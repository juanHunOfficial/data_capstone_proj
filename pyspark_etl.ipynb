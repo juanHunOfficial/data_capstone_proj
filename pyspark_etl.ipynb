{
 "cells": [
  {
   "cell_type": "code",
   "execution_count": 68,
   "id": "ff4d8b5a",
   "metadata": {},
   "outputs": [
    {
     "data": {
      "text/html": [
       "\n",
       "            <div>\n",
       "                <p><b>SparkSession - in-memory</b></p>\n",
       "                \n",
       "        <div>\n",
       "            <p><b>SparkContext</b></p>\n",
       "\n",
       "            <p><a href=\"http://10.60.50.4:4040\">Spark UI</a></p>\n",
       "\n",
       "            <dl>\n",
       "              <dt>Version</dt>\n",
       "                <dd><code>v3.5.5</code></dd>\n",
       "              <dt>Master</dt>\n",
       "                <dd><code>local[*]</code></dd>\n",
       "              <dt>AppName</dt>\n",
       "                <dd><code>Practice</code></dd>\n",
       "            </dl>\n",
       "        </div>\n",
       "        \n",
       "            </div>\n",
       "        "
      ],
      "text/plain": [
       "<pyspark.sql.session.SparkSession at 0x283763dba70>"
      ]
     },
     "execution_count": 68,
     "metadata": {},
     "output_type": "execute_result"
    }
   ],
   "source": [
    "from pyspark.sql import SparkSession\n",
    "from pyspark.sql.functions import concat, lit, substring, lpad, col, initcap, lower, trim, concat_ws, when, length\n",
    "\n",
    "spark = SparkSession.builder.appName('capstone-prac').getOrCreate()\n",
    "\n",
    "spark"
   ]
  },
  {
   "cell_type": "code",
   "execution_count": 9,
   "id": "0170f16f",
   "metadata": {},
   "outputs": [],
   "source": [
    "def extract():\n",
    "    \n",
    "    # gather the nessecary data from their data sources and assign them variable names.\n",
    "    df_branch =spark.read.option(\"multiLine\", True).json('origin_data/cdw_sapp_branch.json')\n",
    "    df_customer =spark.read.option(\"multiLine\", True).json('origin_data/cdw_sapp_customer.json')\n",
    "    df_credit =spark.read.option(\"multiLine\", True).json('origin_data/cdw_sapp_credit.json')\n",
    "\n",
    "    return df_branch, df_customer, df_credit"
   ]
  },
  {
   "cell_type": "code",
   "execution_count": 62,
   "id": "e776eb8f",
   "metadata": {},
   "outputs": [],
   "source": [
    "df_branch, df_customer, df_credit = extract()\n"
   ]
  },
  {
   "cell_type": "code",
   "execution_count": 103,
   "id": "7b5ba814",
   "metadata": {},
   "outputs": [],
   "source": [
    "def transform(df_branch, df_customer, df_credit) -> tuple:\n",
    "\n",
    "\n",
    "    # Fill missing 'BRANCH_ZIP' with 99999\n",
    "    df_branch = df_branch.fillna({'BRANCH_ZIP': 99999})\n",
    "\n",
    "    df_branch = df_branch.withColumn(\n",
    "        # select the column I want to change \n",
    "        'BRANCH_PHONE',\n",
    "        # use the concat function with the literal and substring functions to manipulate the data to what you want it to be similar to splicing\n",
    "        concat(\n",
    "            lit(\"(\"), substring(\"BRANCH_PHONE\", 1, 3), lit(\")\"),\n",
    "            substring(\"BRANCH_PHONE\", 4, 3), lit(\"-\"),\n",
    "            substring(\"BRANCH_PHONE\", 7, 4) \n",
    "        )\n",
    "    )\n",
    "    # for testing purposes, make sure this is commented out for production\n",
    "    # df_branch.show(10)\n",
    "\n",
    "    # --------------------------------------------------------------------\n",
    "\n",
    "    df_credit = df_credit.withColumn(\n",
    "        \"TIMEID\",\n",
    "        concat(\n",
    "            lpad(col(\"YEAR\").cast(\"string\"), 4, \"0\"),\n",
    "            lpad(col(\"MONTH\").cast(\"string\"), 2, \"0\"),\n",
    "            lpad(col(\"DAY\").cast(\"string\"), 2, \"0\")\n",
    "        ).cast(\"int\")\n",
    "    )\n",
    "    df_credit = df_credit.drop(\"YEAR\", \"MONTH\", \"DAY\")\n",
    "    # for testing purposes, make sure this is commented out for production\n",
    "    # df_credit.show(10)\n",
    "    \n",
    "    # --------------------------------------------------------------------\n",
    "\n",
    "    # Capitalize first name (only first letter upper)\n",
    "    df_customer = df_customer.withColumn(\"FIRST_NAME\", initcap(trim(col(\"FIRST_NAME\"))))\n",
    "\n",
    "    # Lowercase middle name\n",
    "    df_customer = df_customer.withColumn(\"MIDDLE_NAME\", lower(trim(col(\"MIDDLE_NAME\"))))\n",
    "\n",
    "    # Capitalize last name (only first letter upper)\n",
    "    df_customer = df_customer.withColumn(\"LAST_NAME\", initcap(trim(col(\"LAST_NAME\"))))\n",
    "\n",
    "    # Combine street and apartment into full address (as string)\n",
    "    df_customer = df_customer.withColumn(\n",
    "        \"FULL_STREET_ADDRESS\",\n",
    "        concat_ws(\", \",\n",
    "            trim(col(\"STREET_NAME\")),\n",
    "            trim(col(\"APT_NO\").cast(\"string\"))\n",
    "        )\n",
    "    )\n",
    "\n",
    "    # Format CUST_PHONE as (XXX)XXX-XXXX, only if it's exactly 10 digits\n",
    "    df_customer = df_customer.withColumn(\n",
    "        \"CUST_PHONE\",\n",
    "        concat(\n",
    "            lit(\"(\"),\n",
    "            substring(lpad(col(\"CUST_PHONE\").cast(\"string\"), 10, \"X\"), 1, 3),\n",
    "            lit(\")\"),\n",
    "            substring(lpad(col(\"CUST_PHONE\").cast(\"string\"), 10, \"X\"), 4, 3),\n",
    "            lit(\"-\"),\n",
    "            substring(lpad(col(\"CUST_PHONE\").cast(\"string\"), 10, \"X\"), 7, 4)\n",
    "        )\n",
    "    )\n",
    "    # for testing purposes, make sure this is commented out for production\n",
    "    # df_customer.show(10)\n",
    "\n",
    "    return df_branch, df_customer, df_credit"
   ]
  },
  {
   "cell_type": "code",
   "execution_count": 104,
   "id": "384bc222",
   "metadata": {},
   "outputs": [],
   "source": [
    "df_branch, df_customer, df_credit = transform(df_branch, df_customer, df_credit)"
   ]
  },
  {
   "cell_type": "code",
   "execution_count": null,
   "id": "f0892a88",
   "metadata": {},
   "outputs": [],
   "source": [
    "def extract(df_branch, df_customer, df_credit) -> tuple:\n",
    "    pass "
   ]
  }
 ],
 "metadata": {
  "kernelspec": {
   "display_name": "venv",
   "language": "python",
   "name": "python3"
  },
  "language_info": {
   "codemirror_mode": {
    "name": "ipython",
    "version": 3
   },
   "file_extension": ".py",
   "mimetype": "text/x-python",
   "name": "python",
   "nbconvert_exporter": "python",
   "pygments_lexer": "ipython3",
   "version": "3.12.0"
  }
 },
 "nbformat": 4,
 "nbformat_minor": 5
}
