{
 "cells": [
  {
   "cell_type": "code",
   "execution_count": 4,
   "id": "ff4d8b5a",
   "metadata": {},
   "outputs": [
    {
     "data": {
      "text/html": [
       "\n",
       "            <div>\n",
       "                <p><b>SparkSession - in-memory</b></p>\n",
       "                \n",
       "        <div>\n",
       "            <p><b>SparkContext</b></p>\n",
       "\n",
       "            <p><a href=\"http://10.60.50.4:4040\">Spark UI</a></p>\n",
       "\n",
       "            <dl>\n",
       "              <dt>Version</dt>\n",
       "                <dd><code>v3.5.5</code></dd>\n",
       "              <dt>Master</dt>\n",
       "                <dd><code>local[*]</code></dd>\n",
       "              <dt>AppName</dt>\n",
       "                <dd><code>capstone-prac</code></dd>\n",
       "            </dl>\n",
       "        </div>\n",
       "        \n",
       "            </div>\n",
       "        "
      ],
      "text/plain": [
       "<pyspark.sql.session.SparkSession at 0x1456631b4a0>"
      ]
     },
     "execution_count": 4,
     "metadata": {},
     "output_type": "execute_result"
    }
   ],
   "source": [
    "from pyspark.sql import SparkSession\n",
    "from pyspark.sql.functions import concat, lit, substring, lpad, col, initcap, lower, trim, concat_ws\n",
    "import mysql.connector as dbconnection\n",
    "\n",
    "# NOTE: remember that you need to use a raw string because of the windows configuration\n",
    "spark = SparkSession.builder \\\n",
    "            .appName('capstone-prac') \\\n",
    "            .config(\"spark.jars\", r\"C:\\Spark\\jars\\mysql-connector-j-8.0.33.jar\") \\\n",
    "            .getOrCreate()\n",
    "\n",
    "spark"
   ]
  },
  {
   "cell_type": "code",
   "execution_count": 43,
   "id": "0170f16f",
   "metadata": {},
   "outputs": [],
   "source": [
    "def extract():\n",
    "    \n",
    "    # gather the nessesary data from their data sources and assign them variable names.\n",
    "    df_branch =spark.read.option(\"multiLine\", True).json('origin_data/cdw_sapp_branch.json')\n",
    "    df_customer =spark.read.option(\"multiLine\", True).json('origin_data/cdw_sapp_customer.json')\n",
    "    df_credit =spark.read.option(\"multiLine\", True).json('origin_data/cdw_sapp_credit.json')\n",
    "\n",
    "    return df_branch, df_customer, df_credit"
   ]
  },
  {
   "cell_type": "code",
   "execution_count": 44,
   "id": "e776eb8f",
   "metadata": {},
   "outputs": [],
   "source": [
    "df_branch, df_customer, df_credit = extract()\n"
   ]
  },
  {
   "cell_type": "code",
   "execution_count": 46,
   "id": "7b5ba814",
   "metadata": {},
   "outputs": [],
   "source": [
    "def transform(df_branch, df_customer, df_credit) -> tuple:\n",
    "\n",
    "\n",
    "    # Fill missing 'BRANCH_ZIP' with 99999\n",
    "    df_branch = df_branch.fillna({'BRANCH_ZIP': 99999})\n",
    "\n",
    "    df_branch = df_branch.withColumn(\n",
    "        # select the column I want to change \n",
    "        'BRANCH_PHONE',\n",
    "        # use the concat function with the literal and substring functions to manipulate the data to what you want it to be similar to splicing\n",
    "        concat(\n",
    "            lit(\"(\"), substring(\"BRANCH_PHONE\", 1, 3), lit(\")\"),\n",
    "            substring(\"BRANCH_PHONE\", 4, 3), lit(\"-\"),\n",
    "            substring(\"BRANCH_PHONE\", 7, 4) \n",
    "        )\n",
    "    )\n",
    "    # for testing purposes, make sure this is commented out for production\n",
    "    # df_branch.show(10)\n",
    "\n",
    "    # --------------------------------------------------------------------\n",
    "    df_credit = df_credit.withColumnRenamed(\"CREDIT_CARD_NO\", \"CUST_CC_NO\")\n",
    "\n",
    "    df_credit = df_credit.withColumn(\n",
    "        \"TIMEID\",\n",
    "        concat(\n",
    "            lpad(col(\"YEAR\").cast(\"string\"), 4, \"0\"),\n",
    "            lpad(col(\"MONTH\").cast(\"string\"), 2, \"0\"),\n",
    "            lpad(col(\"DAY\").cast(\"string\"), 2, \"0\")\n",
    "        ).cast(\"int\")\n",
    "    )\n",
    "    df_credit = df_credit.drop(\"YEAR\", \"MONTH\", \"DAY\")\n",
    "    # for testing purposes, make sure this is commented out for production\n",
    "    # df_credit.show(10)\n",
    "    \n",
    "    # --------------------------------------------------------------------\n",
    "\n",
    "    # Capitalize first name (only first letter upper)\n",
    "    df_customer = df_customer.withColumn(\"FIRST_NAME\", initcap(trim(col(\"FIRST_NAME\"))))\n",
    "\n",
    "    # Lowercase middle name\n",
    "    df_customer = df_customer.withColumn(\"MIDDLE_NAME\", lower(trim(col(\"MIDDLE_NAME\"))))\n",
    "\n",
    "    # Capitalize last name (only first letter upper)\n",
    "    df_customer = df_customer.withColumn(\"LAST_NAME\", initcap(trim(col(\"LAST_NAME\"))))\n",
    "\n",
    "    # Combine street and apartment into full address (as string)\n",
    "    df_customer = df_customer.withColumn(\n",
    "        \"FULL_STREET_ADDRESS\",\n",
    "        concat_ws(\", \",\n",
    "            trim(col(\"STREET_NAME\")),\n",
    "            trim(col(\"APT_NO\").cast(\"string\"))\n",
    "        )\n",
    "    )\n",
    "    df_customer = df_customer.drop(\"STREET_NAME\",\"APT_NO\")\n",
    "    # Format CUST_PHONE as (XXX)XXX-XXXX, only if it's exactly 10 digits\n",
    "    df_customer = df_customer.withColumn(\n",
    "        \"CUST_PHONE\",\n",
    "        concat(\n",
    "            lit(\"(\"),\n",
    "            substring(lpad(col(\"CUST_PHONE\").cast(\"string\"), 10, \"X\"), 1, 3),\n",
    "            lit(\")\"),\n",
    "            substring(lpad(col(\"CUST_PHONE\").cast(\"string\"), 10, \"X\"), 4, 3),\n",
    "            lit(\"-\"),\n",
    "            substring(lpad(col(\"CUST_PHONE\").cast(\"string\"), 10, \"X\"), 7, 4)\n",
    "        )\n",
    "    )\n",
    "    # for testing purposes, make sure this is commented out for production\n",
    "    # df_customer.show(10)\n",
    "\n",
    "    return df_branch, df_customer, df_credit"
   ]
  },
  {
   "cell_type": "code",
   "execution_count": 47,
   "id": "384bc222",
   "metadata": {},
   "outputs": [],
   "source": [
    "df_branch, df_customer, df_credit = transform(df_branch, df_customer, df_credit)"
   ]
  },
  {
   "cell_type": "code",
   "execution_count": 63,
   "id": "2ee1808c",
   "metadata": {},
   "outputs": [],
   "source": [
    "def make_db_and_tables():\n",
    "    conn = dbconnection.connect(\n",
    "        host='localhost',\n",
    "        user='root',\n",
    "        password='password'\n",
    "    )\n",
    "    cursor = conn.cursor()\n",
    "    \n",
    "    # Create database if not exists\n",
    "    cursor.execute(\"CREATE DATABASE IF NOT EXISTS creditcard_capstone\")\n",
    "    cursor.execute(\"USE creditcard_capstone\")\n",
    "\n",
    "    # Create tables if not exists\n",
    "    # CDW_SAPP_BRANCH\n",
    "    cursor.execute(\"\"\"\n",
    "        CREATE TABLE IF NOT EXISTS CDW_SAPP_BRANCH (\n",
    "            BRANCH_CODE INT AUTO_INCREMENT PRIMARY KEY,\n",
    "            BRANCH_NAME VARCHAR(100),\n",
    "            BRANCH_STREET VARCHAR(100),\n",
    "            BRANCH_CITY VARCHAR(50),\n",
    "            BRANCH_STATE VARCHAR(50), \n",
    "            BRANCH_ZIP VARCHAR(10),\n",
    "            BRANCH_PHONE VARCHAR(13),\n",
    "            LAST_UPDATED TIMESTAMP DEFAULT CURRENT_TIMESTAMP ON UPDATE CURRENT_TIMESTAMP\n",
    "        )\n",
    "    \"\"\")\n",
    "    # CDW_SAPP_CUSTOMER\n",
    "    cursor.execute(\"\"\"\n",
    "            CREATE TABLE IF NOT EXISTS CDW_SAPP_CUSTOMER (\n",
    "                SSN INT(9) PRIMARY KEY,\n",
    "                FIRST_NAME VARCHAR(30),\n",
    "                MIDDLE_NAME VARCHAR(30),\n",
    "                LAST_NAME VARCHAR(30),\n",
    "                CREDIT_CARD_NO VARCHAR(19),\n",
    "                FULL_STREET_ADDRESS VARCHAR(150),\n",
    "                CUST_CITY VARCHAR(30),\n",
    "                CUST_STATE VARCHAR(30),\n",
    "                CUST_COUNTRY VARCHAR(50),\n",
    "                CUST_ZIP VARCHAR(10),\n",
    "                CUST_PHONE VARCHAR(13),\n",
    "                CUST_EMAIL VARCHAR(60),\n",
    "                LAST_UPDATED TIMESTAMP DEFAULT CURRENT_TIMESTAMP ON UPDATE CURRENT_TIMESTAMP\n",
    "            )\n",
    "        \"\"\")\n",
    "    # CDW_SAPP_CREDIT_CARD\n",
    "    cursor.execute(\"\"\"\n",
    "            CREATE TABLE IF NOT EXISTS CDW_SAPP_CREDIT_CARD (\n",
    "                TRANSACTION_ID INT PRIMARY KEY,\n",
    "                CUST_CC_NO VARCHAR(19),\n",
    "                TIMEID VARCHAR(8),\n",
    "                CUST_SSN INT(9),\n",
    "                BRANCH_CODE INT,\n",
    "                TRANSACTION_TYPE VARCHAR(50),\n",
    "                TRANSACTION_VALUE DOUBLE(10,2),\n",
    "                FOREIGN KEY (CUST_SSN) REFERENCES CDW_SAPP_CUSTOMER(SSN),\n",
    "                FOREIGN KEY (BRANCH_CODE) REFERENCES CDW_SAPP_BRANCH(BRANCH_CODE)\n",
    "            )\n",
    "        \"\"\")\n",
    "\n",
    "    # Commit changes and close connection\n",
    "    conn.commit()\n",
    "    cursor.close()\n",
    "    conn.close()"
   ]
  },
  {
   "cell_type": "code",
   "execution_count": 64,
   "id": "ecc177dd",
   "metadata": {},
   "outputs": [],
   "source": [
    "make_db_and_tables()"
   ]
  },
  {
   "cell_type": "code",
   "execution_count": null,
   "id": "a3e1239d",
   "metadata": {},
   "outputs": [],
   "source": [
    "def load(df_branch, df_customer, df_credit) -> tuple:\n",
    "    # MySQL JDBC connection properties\n",
    "    url = \"jdbc:mysql://localhost:3306/creditcard_capstone\"  # Update with your DB details\n",
    "    properties = {\n",
    "        \"user\": \"root\",   # Replace with your MySQL username\n",
    "        \"password\": \"password\",  # Replace with your MySQL password\n",
    "        \"driver\": \"com.mysql.cj.jdbc.Driver\"\n",
    "    }\n",
    "    # Write the data to MySQL \n",
    "    # CDW_SAPP_BRANCH\n",
    "    df_branch.write.jdbc(url=url, table=\"CDW_SAPP_BRANCH\", mode=\"append\", properties=properties)\n",
    "    # CDW_SAPP_CUSTOMER\n",
    "    df_customer.write.jdbc(url=url, table=\"CDW_SAPP_CUSTOMER\", mode=\"append\", properties=properties)\n",
    "    # CDW_SAPP_CREDIT_CARD\n",
    "    df_credit.write.jdbc(url=url, table=\"CDW_SAPP_CREDIT_CARD\", mode=\"append\", properties=properties)"
   ]
  },
  {
   "cell_type": "code",
   "execution_count": 3,
   "id": "8df5203a",
   "metadata": {},
   "outputs": [
    {
     "ename": "NameError",
     "evalue": "name 'df_branch' is not defined",
     "output_type": "error",
     "traceback": [
      "\u001b[31m---------------------------------------------------------------------------\u001b[39m",
      "\u001b[31mNameError\u001b[39m                                 Traceback (most recent call last)",
      "\u001b[36mCell\u001b[39m\u001b[36m \u001b[39m\u001b[32mIn[3]\u001b[39m\u001b[32m, line 1\u001b[39m\n\u001b[32m----> \u001b[39m\u001b[32m1\u001b[39m load(\u001b[43mdf_branch\u001b[49m, df_customer, df_credit)\n",
      "\u001b[31mNameError\u001b[39m: name 'df_branch' is not defined"
     ]
    }
   ],
   "source": [
    "load(df_branch, df_customer, df_credit)"
   ]
  }
 ],
 "metadata": {
  "kernelspec": {
   "display_name": "venv",
   "language": "python",
   "name": "python3"
  },
  "language_info": {
   "codemirror_mode": {
    "name": "ipython",
    "version": 3
   },
   "file_extension": ".py",
   "mimetype": "text/x-python",
   "name": "python",
   "nbconvert_exporter": "python",
   "pygments_lexer": "ipython3",
   "version": "3.12.0"
  }
 },
 "nbformat": 4,
 "nbformat_minor": 5
}
